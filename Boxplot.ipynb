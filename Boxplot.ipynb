{
 "cells": [
  {
   "cell_type": "code",
   "execution_count": 1,
   "metadata": {},
   "outputs": [],
   "source": [
    "################### Box PLOT ##########################"
   ]
  },
  {
   "cell_type": "code",
   "execution_count": 1,
   "metadata": {},
   "outputs": [],
   "source": [
    "import pandas as pd\n",
    "import matplotlib.pyplot as plt"
   ]
  },
  {
   "cell_type": "code",
   "execution_count": 2,
   "metadata": {},
   "outputs": [],
   "source": [
    "#Leitura do arquivo\n",
    "dataset = pd.read_csv(\"dataset.csv\",sep=\";\");"
   ]
  },
  {
   "cell_type": "code",
   "execution_count": 3,
   "metadata": {},
   "outputs": [],
   "source": [
    "dataset.columns = ['Data','Estado Cliente','Cliente','Produto','Qtd','Deposito','Vendedor','Parcelas']"
   ]
  },
  {
   "cell_type": "code",
   "execution_count": 4,
   "metadata": {},
   "outputs": [
    {
     "data": {
      "text/html": [
       "<div>\n",
       "<style scoped>\n",
       "    .dataframe tbody tr th:only-of-type {\n",
       "        vertical-align: middle;\n",
       "    }\n",
       "\n",
       "    .dataframe tbody tr th {\n",
       "        vertical-align: top;\n",
       "    }\n",
       "\n",
       "    .dataframe thead th {\n",
       "        text-align: right;\n",
       "    }\n",
       "</style>\n",
       "<table border=\"1\" class=\"dataframe\">\n",
       "  <thead>\n",
       "    <tr style=\"text-align: right;\">\n",
       "      <th></th>\n",
       "      <th>Data</th>\n",
       "      <th>Estado Cliente</th>\n",
       "      <th>Cliente</th>\n",
       "      <th>Produto</th>\n",
       "      <th>Qtd</th>\n",
       "      <th>Deposito</th>\n",
       "      <th>Vendedor</th>\n",
       "      <th>Parcelas</th>\n",
       "    </tr>\n",
       "  </thead>\n",
       "  <tbody>\n",
       "    <tr>\n",
       "      <th>0</th>\n",
       "      <td>28/05/2014</td>\n",
       "      <td>MG</td>\n",
       "      <td>Cliente 1</td>\n",
       "      <td>Produto 1</td>\n",
       "      <td>4</td>\n",
       "      <td>7</td>\n",
       "      <td>Vendedor 1</td>\n",
       "      <td>1</td>\n",
       "    </tr>\n",
       "    <tr>\n",
       "      <th>1</th>\n",
       "      <td>08/09/2014</td>\n",
       "      <td>SP</td>\n",
       "      <td>Cliente 2</td>\n",
       "      <td>Produto 1</td>\n",
       "      <td>1</td>\n",
       "      <td>7</td>\n",
       "      <td>Vendedor 2</td>\n",
       "      <td>1</td>\n",
       "    </tr>\n",
       "    <tr>\n",
       "      <th>2</th>\n",
       "      <td>27/10/2016</td>\n",
       "      <td>MG</td>\n",
       "      <td>Cliente 3</td>\n",
       "      <td>Produto 1</td>\n",
       "      <td>1</td>\n",
       "      <td>7</td>\n",
       "      <td>Vendedor 3</td>\n",
       "      <td>1</td>\n",
       "    </tr>\n",
       "    <tr>\n",
       "      <th>3</th>\n",
       "      <td>06/06/2014</td>\n",
       "      <td>AM</td>\n",
       "      <td>Cliente 4</td>\n",
       "      <td>Produto 2</td>\n",
       "      <td>30</td>\n",
       "      <td>1</td>\n",
       "      <td>Vendedor 4</td>\n",
       "      <td>3</td>\n",
       "    </tr>\n",
       "    <tr>\n",
       "      <th>4</th>\n",
       "      <td>26/08/2015</td>\n",
       "      <td>SP</td>\n",
       "      <td>Cliente 5</td>\n",
       "      <td>Produto 1</td>\n",
       "      <td>4</td>\n",
       "      <td>7</td>\n",
       "      <td>Vendedor 1</td>\n",
       "      <td>1</td>\n",
       "    </tr>\n",
       "  </tbody>\n",
       "</table>\n",
       "</div>"
      ],
      "text/plain": [
       "         Data Estado Cliente    Cliente    Produto  Qtd Deposito    Vendedor  \\\n",
       "0  28/05/2014             MG  Cliente 1  Produto 1    4        7  Vendedor 1   \n",
       "1  08/09/2014             SP  Cliente 2  Produto 1    1        7  Vendedor 2   \n",
       "2  27/10/2016             MG  Cliente 3  Produto 1    1        7  Vendedor 3   \n",
       "3  06/06/2014             AM  Cliente 4  Produto 2   30        1  Vendedor 4   \n",
       "4  26/08/2015             SP  Cliente 5  Produto 1    4        7  Vendedor 1   \n",
       "\n",
       "   Parcelas  \n",
       "0         1  \n",
       "1         1  \n",
       "2         1  \n",
       "3         3  \n",
       "4         1  "
      ]
     },
     "execution_count": 4,
     "metadata": {},
     "output_type": "execute_result"
    }
   ],
   "source": [
    "################### campeões de vendas #############################\n",
    "\n",
    "#Produto 1     2618\n",
    "#Produto 4      987\n",
    "#Produto 69     406\n",
    "#Produto 3      364\n",
    "#Produto 13     294\n",
    "dataset.head()"
   ]
  },
  {
   "cell_type": "code",
   "execution_count": 5,
   "metadata": {},
   "outputs": [],
   "source": [
    "#############   Organizando o dataset\n",
    "\n",
    "produto1= dataset[dataset.Produto == \"Produto 1\"]\n",
    "produto4= dataset[dataset.Produto == \"Produto 4\"]\n",
    "produto69= dataset[dataset.Produto == \"Produto 69\"]\n",
    "produto3= dataset[dataset.Produto == \"Produto 3\"]\n",
    "produto13= dataset[dataset.Produto == \"Produto 13\"]\n"
   ]
  },
  {
   "cell_type": "code",
   "execution_count": 7,
   "metadata": {},
   "outputs": [
    {
     "data": {
      "text/plain": [
       "Text(0, 0.5, 'Quantidade')"
      ]
     },
     "execution_count": 7,
     "metadata": {},
     "output_type": "execute_result"
    },
    {
     "data": {
      "image/png": "[encoded data removed]",
      "text/plain": [
       "<Figure size 432x288 with 1 Axes>"
      ]
     },
     "metadata": {
      "needs_background": "light"
     },
     "output_type": "display_data"
    }
   ],
   "source": [
    "########## criando barplot produto1\n",
    "\n",
    "#plt.boxplot(produto1['Qtd'], patch_artist = True)\n",
    "plt.boxplot(produto1['Qtd'], patch_artist = True, showfliers = True)        # showfliers = outliers\n",
    "plt.title('Boxplot Produto1')\n",
    "plt.ylabel('Quantidade')"
   ]
  },
  {
   "cell_type": "code",
   "execution_count": 9,
   "metadata": {},
   "outputs": [
    {
     "data": {
      "text/plain": [
       "Text(0, 0.5, 'Quantidade')"
      ]
     },
     "execution_count": 9,
     "metadata": {},
     "output_type": "execute_result"
    },
    {
     "data": {
      "image/png": "[encoded data removed]",
      "text/plain": [
       "<Figure size 432x288 with 1 Axes>"
      ]
     },
     "metadata": {
      "needs_background": "light"
     },
     "output_type": "display_data"
    }
   ],
   "source": [
    "########## criando barplot produto4\n",
    "\n",
    "\n",
    "plt.boxplot(produto4['Qtd'], patch_artist = True, showfliers = True)        # showfliers = outliers\n",
    "plt.title('Boxplot Produto4')\n",
    "plt.ylabel('Quantidade')"
   ]
  },
  {
   "cell_type": "code",
   "execution_count": 10,
   "metadata": {},
   "outputs": [
    {
     "data": {
      "text/plain": [
       "Text(0, 0.5, 'Quantidade')"
      ]
     },
     "execution_count": 10,
     "metadata": {},
     "output_type": "execute_result"
    },
    {
     "data": {
      "image/png": "[encoded data removed]",
      "text/plain": [
       "<Figure size 432x288 with 1 Axes>"
      ]
     },
     "metadata": {
      "needs_background": "light"
     },
     "output_type": "display_data"
    }
   ],
   "source": [
    "########## criando barplot produto69\n",
    "\n",
    "#plt.boxplot(produto1['Qtd'], patch_artist = True)\n",
    "plt.boxplot(produto69['Qtd'], patch_artist = True, showfliers = True)        # showfliers = outliers\n",
    "plt.title('Boxplot Produto69')\n",
    "plt.ylabel('Quantidade')"
   ]
  },
  {
   "cell_type": "code",
   "execution_count": 11,
   "metadata": {},
   "outputs": [
    {
     "data": {
      "text/plain": [
       "Text(0, 0.5, 'Quantidade')"
      ]
     },
     "execution_count": 11,
     "metadata": {},
     "output_type": "execute_result"
    },
    {
     "data": {
      "image/png": "[encoded data removed]",
      "text/plain": [
       "<Figure size 432x288 with 1 Axes>"
      ]
     },
     "metadata": {
      "needs_background": "light"
     },
     "output_type": "display_data"
    }
   ],
   "source": [
    "########## criando barplot produto3\n",
    "\n",
    "#plt.boxplot(produto1['Qtd'], patch_artist = True)\n",
    "plt.boxplot(produto3['Qtd'], patch_artist = True, showfliers = True)        # showfliers = outliers\n",
    "plt.title('Boxplot Produto3')\n",
    "plt.ylabel('Quantidade')"
   ]
  },
  {
   "cell_type": "code",
   "execution_count": 12,
   "metadata": {},
   "outputs": [
    {
     "data": {
      "text/plain": [
       "Text(0, 0.5, 'Quantidade')"
      ]
     },
     "execution_count": 12,
     "metadata": {},
     "output_type": "execute_result"
    },
    {
     "data": {
      "image/png": "[encoded data removed]",
      "text/plain": [
       "<Figure size 432x288 with 1 Axes>"
      ]
     },
     "metadata": {
      "needs_background": "light"
     },
     "output_type": "display_data"
    }
   ],
   "source": [
    "########## criando barplot produto13\n",
    "\n",
    "#plt.boxplot(produto1['Qtd'], patch_artist = True)\n",
    "plt.boxplot(produto13['Qtd'], patch_artist = True, showfliers = True)   # showfliers = outliers ( True or False)\n",
    "plt.title('Boxplot Produto13')\n",
    "plt.ylabel('Quantidade')"
   ]
  },
  {
   "cell_type": "code",
   "execution_count": 14,
   "metadata": {},
   "outputs": [],
   "source": [
    "############ Vendedores  top 5 ############\n",
    "\n",
    "vendedor13= dataset[dataset.Vendedor == \"Vendedor 13\"]\n",
    "vendedor7= dataset[dataset.Vendedor == \"Vendedor 7\"]\n",
    "vendedor5= dataset[dataset.Vendedor == \"Vendedor 5\"]\n",
    "vendedor6= dataset[dataset.Vendedor == \"Vendedor 6\"]\n",
    "vendedor2= dataset[dataset.Vendedor == \"Vendedor 2\"]"
   ]
  },
  {
   "cell_type": "code",
   "execution_count": 15,
   "metadata": {},
   "outputs": [
    {
     "data": {
      "text/plain": [
       "Text(0, 0.5, 'Quantidade vendidas')"
      ]
     },
     "execution_count": 15,
     "metadata": {},
     "output_type": "execute_result"
    },
    {
     "data": {
      "image/png": "[encoded data removed]",
      "text/plain": [
       "<Figure size 432x288 with 1 Axes>"
      ]
     },
     "metadata": {
      "needs_background": "light"
     },
     "output_type": "display_data"
    }
   ],
   "source": [
    "########## criando barplot vendedor13\n",
    "\n",
    "#plt.boxplot(produto1['Qtd'], patch_artist = True)\n",
    "plt.boxplot(vendedor13['Qtd'],patch_artist = True, showfliers = False)   # showfliers = outliers ( True or False)\n",
    "plt.title('Boxplot vendedor13')\n",
    "plt.ylabel('Quantidade vendidas')\n"
   ]
  },
  {
   "cell_type": "code",
   "execution_count": 16,
   "metadata": {},
   "outputs": [
    {
     "data": {
      "text/plain": [
       "Text(0, 0.5, 'Quantidade vendidas')"
      ]
     },
     "execution_count": 16,
     "metadata": {},
     "output_type": "execute_result"
    },
    {
     "data": {
      "image/png": "[encoded data removed]",
      "text/plain": [
       "<Figure size 432x288 with 1 Axes>"
      ]
     },
     "metadata": {
      "needs_background": "light"
     },
     "output_type": "display_data"
    }
   ],
   "source": [
    "########## criando barplot vendedor7\n",
    "\n",
    "plt.boxplot(vendedor7['Qtd'],patch_artist = True, showfliers = True)   # showfliers = outliers ( True or False)\n",
    "plt.title('Boxplot vendedor7')\n",
    "plt.ylabel('Quantidade vendidas')"
   ]
  },
  {
   "cell_type": "code",
   "execution_count": 17,
   "metadata": {},
   "outputs": [
    {
     "data": {
      "text/plain": [
       "Text(0, 0.5, 'Quantidade vendidas')"
      ]
     },
     "execution_count": 17,
     "metadata": {},
     "output_type": "execute_result"
    },
    {
     "data": {
      "image/png": "[encoded data removed]",
      "text/plain": [
       "<Figure size 432x288 with 1 Axes>"
      ]
     },
     "metadata": {
      "needs_background": "light"
     },
     "output_type": "display_data"
    }
   ],
   "source": [
    "########## criando barplot vendedor5\n",
    "\n",
    "plt.boxplot(vendedor5['Qtd'],patch_artist = True, showfliers = True)   # showfliers = outliers ( True or False)\n",
    "plt.title('Boxplot vendedor5')\n",
    "plt.ylabel('Quantidade vendidas')"
   ]
  },
  {
   "cell_type": "code",
   "execution_count": 18,
   "metadata": {},
   "outputs": [
    {
     "data": {
      "text/plain": [
       "Text(0, 0.5, 'Quantidade vendidas')"
      ]
     },
     "execution_count": 18,
     "metadata": {},
     "output_type": "execute_result"
    },
    {
     "data": {
      "image/png": "[encoded data removed]",
      "text/plain": [
       "<Figure size 432x288 with 1 Axes>"
      ]
     },
     "metadata": {
      "needs_background": "light"
     },
     "output_type": "display_data"
    }
   ],
   "source": [
    "########## criando barplot vendedor6\n",
    "\n",
    "plt.boxplot(vendedor6['Qtd'],patch_artist = True, showfliers = True)   # showfliers = outliers ( True or False)\n",
    "plt.title('Boxplot vendedor6')\n",
    "plt.ylabel('Quantidade vendidas')"
   ]
  },
  {
   "cell_type": "code",
   "execution_count": 19,
   "metadata": {},
   "outputs": [
    {
     "data": {
      "text/plain": [
       "Text(0, 0.5, 'Quantidade vendidas')"
      ]
     },
     "execution_count": 19,
     "metadata": {},
     "output_type": "execute_result"
    },
    {
     "data": {
      "image/png": "[encoded data removed]",
      "text/plain": [
       "<Figure size 432x288 with 1 Axes>"
      ]
     },
     "metadata": {
      "needs_background": "light"
     },
     "output_type": "display_data"
    }
   ],
   "source": [
    "########## criando barplot vendedor2\n",
    "\n",
    "plt.boxplot(vendedor2['Qtd'],patch_artist = True, showfliers = True)   # showfliers = outliers ( True or False)\n",
    "plt.title('Boxplot vendedor5')\n",
    "plt.ylabel('Quantidade vendidas')"
   ]
  }
 ],
 "metadata": {
  "kernelspec": {
   "display_name": "Python 3",
   "language": "python",
   "name": "python3"
  },
  "language_info": {
   "codemirror_mode": {
    "name": "ipython",
    "version": 3
   },
   "file_extension": ".py",
   "mimetype": "text/x-python",
   "name": "python",
   "nbconvert_exporter": "python",
   "pygments_lexer": "ipython3",
   "version": "3.6.8"
  }
 },
 "nbformat": 4,
 "nbformat_minor": 2
}
